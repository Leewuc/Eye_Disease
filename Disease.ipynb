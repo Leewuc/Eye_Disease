{
 "cells": [
  {
   "cell_type": "code",
   "execution_count": null,
   "id": "initial_id",
   "metadata": {
    "collapsed": true
   },
   "outputs": [],
   "source": [
    "import os\n",
    "import pandas as pd\n",
    "import numpy as np\n",
    "import cv2\n",
    "import matplotlib.pyplot as plt\n",
    "import plotly.express as px\n",
    "import plotly.graph_objects as go\n",
    "import seaborn as sns\n",
    "from sklearn.model_selection import train_test_split\n",
    "from sklearn.metrics import classification_report, confusion_matrix, accuracy_score\n",
    "import tensorflow as tf\n",
    "from tensorflow.keras.models import Sequential\n",
    "from tensorflow.keras.layers import Conv2D, MaxPooling2D, Flatten, Dense, Dropout\n",
    "from tensorflow.keras.preprocessing.image import ImageDataGenerator"
   ]
  },
  {
   "metadata": {},
   "cell_type": "code",
   "outputs": [],
   "execution_count": null,
   "source": [
    "pd.set_option('display.max_rows', None)  # To display all rows \n",
    "pd.set_option('display.max_columns', None)  # To display all columns"
   ],
   "id": "fa4d514afc2deb53"
  },
  {
   "metadata": {},
   "cell_type": "code",
   "outputs": [],
   "execution_count": null,
   "source": [
    "train_dir = 'Training_Set/Training_Set/Training'\n",
    "val_dir = 'Evaluation_Set/Evaluation_Set/Validation'\n",
    "test_dir = 'Test_Set/Test_Set/Test'\n",
    "\n",
    "train_labels_path = 'Training_Set/Training_Set/RFMiD_Training_Labels.csv'\n",
    "val_labels_path = 'Evaluation_Set/Evaluation_Set/RFMiD_Validation_Labels.csv'\n",
    "test_labels_path = 'Test_Set/Test_Set/RFMiD_Testing_Labels.csv'"
   ],
   "id": "9f39eb8daf57914a"
  },
  {
   "metadata": {},
   "cell_type": "code",
   "outputs": [],
   "execution_count": null,
   "source": [
    "train_labels = pd.read_csv(train_labels_path)\n",
    "val_labels = pd.read_csv(val_labels_path)\n",
    "test_labels = pd.read_csv(test_labels_path)"
   ],
   "id": "5f5b670eedf14066"
  },
  {
   "metadata": {},
   "cell_type": "code",
   "outputs": [],
   "execution_count": null,
   "source": [
    "print(\"Train labels shape:\", train_labels.shape)\n",
    "print(\"Validation labels shape:\", val_labels.shape)\n",
    "print(\"Test labels shape:\", test_labels.shape)"
   ],
   "id": "e3eaa17668e80487"
  },
  {
   "metadata": {},
   "cell_type": "code",
   "outputs": [],
   "execution_count": null,
   "source": [
    "print(\"Sample train labels:\")\n",
    "print(train_labels.head())"
   ],
   "id": "e87954b63d2f8063"
  },
  {
   "metadata": {},
   "cell_type": "code",
   "outputs": [],
   "execution_count": null,
   "source": [
    "disease_counts = train_labels.iloc[:, 2:].sum().sort_values(ascending=False)\n",
    "fig = px.bar(disease_counts, title=\"Disease Distribution in Training Set\")\n",
    "fig.show()"
   ],
   "id": "6a659e5824d921d0"
  },
  {
   "metadata": {},
   "cell_type": "code",
   "outputs": [],
   "execution_count": null,
   "source": [
    "def load_images_and_labels(image_dir, labels_df):\n",
    "    images = []\n",
    "    labels = []\n",
    "    for index, row in labels_df.iterrows():\n",
    "        img_path = os.path.join(image_dir, f\"{row['ID']}.png\")\n",
    "        if os.path.exists(img_path):\n",
    "            img = cv2.imread(img_path)\n",
    "            img = cv2.resize(img, (224, 224)) # Resize images to 224x224\n",
    "            images.append(img)\n",
    "            labels.append(row['Disease_Risk'])\n",
    "    return np.array(images), np.array(labels)"
   ],
   "id": "b9addbe70f9ffc28"
  },
  {
   "metadata": {},
   "cell_type": "code",
   "outputs": [],
   "execution_count": null,
   "source": [
    "X_train, y_train = load_images_and_labels(train_dir, train_labels)\n",
    "X_val, y_val = load_images_and_labels(val_dir, val_labels)\n",
    "X_test, y_test = load_images_and_labels(test_dir, test_labels)"
   ],
   "id": "51289a69c131662a"
  },
  {
   "metadata": {},
   "cell_type": "code",
   "outputs": [],
   "execution_count": null,
   "source": [
    "X_train = X_train / 255.0\n",
    "X_val = X_val / 255.0\n",
    "X_test = X_test / 255.0"
   ],
   "id": "ed27e69707f90aa4"
  },
  {
   "metadata": {},
   "cell_type": "code",
   "outputs": [],
   "execution_count": null,
   "source": [
    "datagen = ImageDataGenerator(\n",
    "    rotation_range=20,\n",
    "    width_shift_range=0.2,\n",
    "    height_shift_range=0.2,\n",
    "    shear_range=0.2,\n",
    "    zoom_range=0.2,\n",
    "    horizontal_flip=True,\n",
    "    fill_mode='nearest'\n",
    ")"
   ],
   "id": "6f1a2f9a8b28532c"
  },
  {
   "metadata": {},
   "cell_type": "code",
   "outputs": [],
   "execution_count": null,
   "source": [
    "model = Sequential([\n",
    "    Conv2D(32, (3, 3), activation='relu', input_shape=(224, 224, 3)),\n",
    "    MaxPooling2D((2, 2)),\n",
    "    Conv2D(64, (3, 3), activation='relu'),\n",
    "    MaxPooling2D((2, 2)),\n",
    "    Conv2D(128, (3, 3), activation='relu'),\n",
    "    MaxPooling2D((2, 2)),\n",
    "    Flatten(),\n",
    "    Dense(512, activation='relu'),\n",
    "    Dropout(0.5),\n",
    "    Dense(1, activation='sigmoid')\n",
    "])"
   ],
   "id": "66003be71b28c084"
  },
  {
   "metadata": {},
   "cell_type": "code",
   "outputs": [],
   "execution_count": null,
   "source": "model.compile(optimizer='adam', loss='binary_crossentropy', metrics=['accuracy'])",
   "id": "3c7854135b7e1af5"
  },
  {
   "metadata": {},
   "cell_type": "code",
   "outputs": [],
   "execution_count": null,
   "source": [
    "history = model.fit(\n",
    "    datagen.flow(X_train, y_train, batch_size=32),\n",
    "    validation_data=(X_val, y_val),\n",
    "    epochs=20\n",
    ")"
   ],
   "id": "4980ab6dcbfb842a"
  },
  {
   "metadata": {},
   "cell_type": "code",
   "outputs": [],
   "execution_count": null,
   "source": [
    "y_pred = (model.predict(X_test) > 0.5).astype(\"int32\")\n",
    "\n",
    "print(\"Accuracy:\", accuracy_score(y_test, y_pred))\n",
    "print(\"Classification Report:\")\n",
    "print(classification_report(y_test, y_pred))"
   ],
   "id": "56b872bc1801424c"
  },
  {
   "metadata": {},
   "cell_type": "code",
   "outputs": [],
   "execution_count": null,
   "source": [
    "cm = confusion_matrix(y_test, y_pred)\n",
    "fig = px.imshow(cm, text_auto=True, title=\"Confusion Matrix\")\n",
    "fig.show()"
   ],
   "id": "1665cd9da661e412"
  },
  {
   "metadata": {},
   "cell_type": "code",
   "outputs": [],
   "execution_count": null,
   "source": [
    "fig = go.Figure()\n",
    "fig.add_trace(go.Scatter(x=list(range(1, 21)), y=history.history['accuracy'], mode='lines', name='Train Accuracy'))\n",
    "fig.add_trace(go.Scatter(x=list(range(1, 21)), y=history.history['val_accuracy'], mode='lines', name='Validation Accuracy'))\n",
    "fig.update_layout(title='Model Accuracy', xaxis_title='Epoch', yaxis_title='Accuracy')\n",
    "fig.show()"
   ],
   "id": "3dce1914333c88c9"
  },
  {
   "metadata": {},
   "cell_type": "code",
   "outputs": [],
   "execution_count": null,
   "source": [
    "fig = go.Figure()\n",
    "fig.add_trace(go.Scatter(x=list(range(1, 21)), y=history.history['loss'], mode='lines', name='Train Loss'))\n",
    "fig.add_trace(go.Scatter(x=list(range(1, 21)), y=history.history['val_loss'], mode='lines', name='Validation Loss'))\n",
    "fig.update_layout(title='Model Loss', xaxis_title='Epoch', yaxis_title='Loss')\n",
    "fig.show()"
   ],
   "id": "673250be92e7b99e"
  },
  {
   "metadata": {},
   "cell_type": "code",
   "outputs": [],
   "execution_count": null,
   "source": [
    "def display_samples(images, true_labels, pred_labels, sample_count=10):\n",
    "    plt.figure(figsize=(20, 20))\n",
    "    for i in range(sample_count):\n",
    "        plt.subplot(5, 2, i + 1)\n",
    "        plt.imshow(images[i])\n",
    "        plt.title(f\"True: {true_labels[i]}, Pred: {pred_labels[i][0]}\")\n",
    "        plt.axis('off')\n",
    "    plt.show()\n",
    "\n",
    "display_samples(X_test, y_test, y_pred, sample_count=10)"
   ],
   "id": "a68112af030d8aa2"
  },
  {
   "metadata": {},
   "cell_type": "code",
   "outputs": [],
   "execution_count": null,
   "source": "model.save('model.h5')",
   "id": "e973fba72e70cec0"
  }
 ],
 "metadata": {
  "kernelspec": {
   "display_name": "Python 3",
   "language": "python",
   "name": "python3"
  },
  "language_info": {
   "codemirror_mode": {
    "name": "ipython",
    "version": 2
   },
   "file_extension": ".py",
   "mimetype": "text/x-python",
   "name": "python",
   "nbconvert_exporter": "python",
   "pygments_lexer": "ipython2",
   "version": "2.7.6"
  }
 },
 "nbformat": 4,
 "nbformat_minor": 5
}
